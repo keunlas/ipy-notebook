{
 "cells": [
  {
   "cell_type": "code",
   "execution_count": 7,
   "metadata": {},
   "outputs": [
    {
     "name": "stdout",
     "output_type": "stream",
     "text": [
      "J:\n",
      "9.808690645338961e-11\n",
      "\n",
      "Theta:\n",
      "[[4.9999906 ]\n",
      " [5.00000313]]\n"
     ]
    }
   ],
   "source": [
    "import numpy as np\n",
    "\n",
    "\n",
    "def gradient(theta):\n",
    "    # jVal = (theta[0] - 5) ** 2 + (theta[1] - 5) ** 2\n",
    "    gradient = 2 * (theta - 5) \n",
    "    return gradient\n",
    "\n",
    "\n",
    "def RepeatUntilConverge(jVal, initTheta, alpha, rg):\n",
    "    optTheta = initTheta\n",
    "    temp = np.zeros([2, 1])\n",
    "    while True:\n",
    "        grad = gradient(optTheta)\n",
    "        temp = optTheta - alpha * grad\n",
    "        optTheta = temp\n",
    "        if np.abs(jVal(optTheta)) <= rg:\n",
    "            break\n",
    "    return [jVal(optTheta), optTheta]\n",
    "\n",
    "\n",
    "jVal = lambda theta: np.sum((theta - 5) ** 2)\n",
    "initTheta = np.array([-10, 10]).reshape([2, 1])\n",
    "alpha = 1e-2\n",
    "rg = 1e-10\n",
    "\n",
    "[j,theta] = RepeatUntilConverge(jVal, initTheta, alpha, rg)\n",
    "print(\"J:\\n{}\\n\\nTheta:\\n{}\".format(j, theta))\n"
   ]
  }
 ],
 "metadata": {
  "kernelspec": {
   "display_name": ".venv",
   "language": "python",
   "name": "python3"
  },
  "language_info": {
   "codemirror_mode": {
    "name": "ipython",
    "version": 3
   },
   "file_extension": ".py",
   "mimetype": "text/x-python",
   "name": "python",
   "nbconvert_exporter": "python",
   "pygments_lexer": "ipython3",
   "version": "3.10.9"
  },
  "orig_nbformat": 4
 },
 "nbformat": 4,
 "nbformat_minor": 2
}
