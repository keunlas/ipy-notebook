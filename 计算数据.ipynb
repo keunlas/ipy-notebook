{
 "cells": [
  {
   "cell_type": "markdown",
   "id": "eaaa80a3",
   "metadata": {},
   "source": [
    "# 初始资料"
   ]
  },
  {
   "cell_type": "code",
   "execution_count": 1,
   "id": "84c868bc",
   "metadata": {},
   "outputs": [],
   "source": [
    "import numpy as np\n",
    "\n",
    "# 设计煤种\n",
    "## 煤质 单位：%\n",
    "C_ar = 58.92\n",
    "H_ar = 2.57\n",
    "O_ar = 2.35\n",
    "N_ar = 0.91\n",
    "S_ar = 2.88\n",
    "M_ar = 8.5\n",
    "A_ar = 23.96\n",
    "M_ad = 1.22\n",
    "V_daf = 12.23\n",
    "Q_net_ar = 22680.0\n",
    "HGI = 82.0\n",
    "## 灰成分 单位：%\n",
    "SiO2 = 44.61\n",
    "Fe2O3 = 16.51\n",
    "Al2O3 = 24.36\n",
    "CaO = 5.22\n",
    "MgO = 0.63\n",
    "TiO2 = 3.85\n",
    "SO3 = 2.36\n",
    "P2O5 = 0.005\n",
    "Na2O = 0.76\n",
    "K2O = 0.85\n",
    "Mn3O4 = 0.09\n",
    "## 灰熔点 单位：℃\n",
    "DT = 1250\n",
    "ST = 1340\n",
    "HT = 1370\n",
    "FT = 1430\n",
    "\n",
    "\n",
    "# 校核煤种\n",
    "## 煤质 单位：%\n",
    "jC_ar = 53.39\n",
    "jH_ar = 2.51\n",
    "jO_ar = 2.35\n",
    "jN_ar = 0.91\n",
    "jS_ar = 3.16\n",
    "jM_ar = 9.5\n",
    "jA_ar = 28.21\n",
    "jM_ad = 1.66\n",
    "jV_daf = 13.82\n",
    "jQ_net_ar = 20460.0\n",
    "jHGI = 71.0\n",
    "## 灰成分 单位：%\n",
    "jSiO2 = 41.35\n",
    "jFe2O3 = 20.19\n",
    "jAl2O3 = 26.08\n",
    "jCaO = 2.48\n",
    "jMgO = 1.46\n",
    "jTiO2 = 1.87\n",
    "jSO3 = 3.61\n",
    "jP2O5 = 0.01\n",
    "jNa2O = 1.06\n",
    "jK2O = 1.38\n",
    "jMn3O4 = 0.14\n",
    "## 灰熔点 单位：℃\n",
    "jDT = 1170\n",
    "jST = 1260\n",
    "jHT = 1290\n",
    "jFT = 1350\n",
    "\n"
   ]
  },
  {
   "cell_type": "markdown",
   "id": "e9fee4dd",
   "metadata": {},
   "source": [
    "# 煤粉的爆炸特性"
   ]
  },
  {
   "cell_type": "code",
   "execution_count": null,
   "id": "ffe42285",
   "metadata": {},
   "outputs": [],
   "source": [
    "A_ad = ( (100-M_ad) / (100-M_ar) ) * A_ar\n",
    "print(\"A_ad =\", A_ad)\n",
    "Q_net_daf = (Q_net_ar + M_ar) * (100 / (100 - M_ad - A_ad))\n",
    "print(\"Q_net_daf =\", Q_net_daf)"
   ]
  }
 ],
 "metadata": {
  "kernelspec": {
   "display_name": "Python 3 (ipykernel)",
   "language": "python",
   "name": "python3"
  },
  "language_info": {
   "codemirror_mode": {
    "name": "ipython",
    "version": 3
   },
   "file_extension": ".py",
   "mimetype": "text/x-python",
   "name": "python",
   "nbconvert_exporter": "python",
   "pygments_lexer": "ipython3",
   "version": "3.10.6"
  }
 },
 "nbformat": 4,
 "nbformat_minor": 5
}
