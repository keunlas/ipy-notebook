{
 "cells": [
  {
   "cell_type": "markdown",
   "id": "fcd1bd57",
   "metadata": {},
   "source": [
    "# 初始资料"
   ]
  },
  {
   "cell_type": "code",
   "execution_count": 1,
   "id": "84c868bc",
   "metadata": {},
   "outputs": [],
   "source": [
    "import numpy as np\n",
    "\n",
    "# 设计煤种\n",
    "## 煤质 单位：%\n",
    "C_ar = 58.92\n",
    "H_ar = 2.57\n",
    "O_ar = 2.35\n",
    "N_ar = 0.91\n",
    "S_ar = 2.88\n",
    "M_ar = 8.5\n",
    "A_ar = 23.96\n",
    "M_ad = 1.22\n",
    "V_daf = 12.23\n",
    "Q_net_ar = 22680.0\n",
    "HGI = 82.0\n",
    "## 灰成分 单位：%\n",
    "SiO2 = 44.61\n",
    "Fe2O3 = 16.51\n",
    "Al2O3 = 24.36\n",
    "CaO = 5.22\n",
    "MgO = 0.63\n",
    "TiO2 = 3.85\n",
    "SO3 = 2.36\n",
    "P2O5 = 0.005\n",
    "Na2O = 0.76\n",
    "K2O = 0.85\n",
    "Mn3O4 = 0.09\n",
    "## 灰熔点 单位：℃\n",
    "DT = 1250\n",
    "ST = 1340\n",
    "HT = 1370\n",
    "FT = 1430\n",
    "\n",
    "\n",
    "# 校核煤种\n",
    "## 煤质 单位：%\n",
    "jC_ar = 53.39\n",
    "jH_ar = 2.51\n",
    "jO_ar = 2.35\n",
    "jN_ar = 0.91\n",
    "jS_ar = 3.16\n",
    "jM_ar = 9.5\n",
    "jA_ar = 28.21\n",
    "jM_ad = 1.66\n",
    "jV_daf = 13.82\n",
    "jQ_net_ar = 20460.0\n",
    "jHGI = 71.0\n",
    "## 灰成分 单位：%\n",
    "jSiO2 = 41.35\n",
    "jFe2O3 = 20.19\n",
    "jAl2O3 = 26.08\n",
    "jCaO = 2.48\n",
    "jMgO = 1.46\n",
    "jTiO2 = 1.87\n",
    "jSO3 = 3.61\n",
    "jP2O5 = 0.01\n",
    "jNa2O = 1.06\n",
    "jK2O = 1.38\n",
    "jMn3O4 = 0.14\n",
    "## 灰熔点 单位：℃\n",
    "jDT = 1170\n",
    "jST = 1260\n",
    "jHT = 1290\n",
    "jFT = 1350\n",
    "\n"
   ]
  },
  {
   "cell_type": "markdown",
   "id": "e7fbe329",
   "metadata": {},
   "source": [
    "# 煤粉的爆炸特性"
   ]
  },
  {
   "cell_type": "code",
   "execution_count": 15,
   "id": "9643ebbe",
   "metadata": {},
   "outputs": [
    {
     "name": "stdout",
     "output_type": "stream",
     "text": [
      "A_ad = 25.86632568306011\n",
      "Q_net_daf = 31116.934117704757\n",
      "A_d = 26.18579234972678\n",
      "V_d = 9.027477595628415\n",
      "FC_daf = 0.8777\n",
      "Q_vol = 18550.567479188478\n",
      "V_vol = 0.2843912999383235\n",
      "V_vol_que = 0.03062516817314641\n",
      "爆炸性指数 K_d = 2.947731599248533\n"
     ]
    }
   ],
   "source": [
    "A_ad = ( (100-M_ad) / (100-M_ar) ) * A_ar\n",
    "print(\"A_ad =\", A_ad)\n",
    "Q_net_daf = (Q_net_ar + M_ar) * (100 / (100 - M_ad - A_ad))\n",
    "print(\"Q_net_daf =\", Q_net_daf)\n",
    "\n",
    "# V_d\n",
    "A_d = A_ar * (  100 / (100-M_ar)  )\n",
    "print(\"A_d =\", A_d)\n",
    "V_d = V_daf * (    (100-A_d) / 100     )\n",
    "print(\"V_d =\", V_d)\n",
    "\n",
    "# 爆炸性指数 K_d\n",
    "FC_daf = 1-V_daf/100\n",
    "Q_vol = (Q_net_daf - 7850*4.187*FC_daf ) / (V_daf/100)\n",
    "V_vol = 1260 * 4.187 / Q_vol\n",
    "V_vol_que = (V_vol * (  1 + ( 100-V_d )/V_d  )) / (100+V_vol*((100-V_d)/V_d))\n",
    "K_d = (V_d/100) / V_vol_que\n",
    "print(\"FC_daf =\", FC_daf)\n",
    "print(\"Q_vol =\", Q_vol)\n",
    "print(\"V_vol =\", V_vol)\n",
    "print(\"V_vol_que =\", V_vol_que)\n",
    "print(\"爆炸性指数 K_d =\", K_d)"
   ]
  },
  {
   "cell_type": "code",
   "execution_count": 16,
   "id": "9cec0819",
   "metadata": {},
   "outputs": [
    {
     "name": "stdout",
     "output_type": "stream",
     "text": [
      "jA_ad = 30.653827624309393\n",
      "jQ_net_daf = 30241.775065052418\n",
      "jA_d = 31.171270718232048\n",
      "jV_d = 9.512130386740331\n",
      "jFC_daf = 0.8618\n",
      "jQ_vol = 13865.237011956677\n",
      "jV_vol = 0.38049259420885295\n",
      "jV_vol_que = 0.0386034896081737\n",
      "爆炸性指数 jK_d = 2.464059721877134\n"
     ]
    }
   ],
   "source": [
    "jA_ad = ( (100-jM_ad) / (100-jM_ar) ) * jA_ar\n",
    "print(\"jA_ad =\", jA_ad)\n",
    "jQ_net_daf = (jQ_net_ar + jM_ar) * (100 / (100 - jM_ad - jA_ad))\n",
    "print(\"jQ_net_daf =\", jQ_net_daf)\n",
    "\n",
    "# V_d\n",
    "jA_d = jA_ar * (  100 / (100-jM_ar)  )\n",
    "print(\"jA_d =\", jA_d)\n",
    "jV_d = jV_daf * (    (100-jA_d) / 100     )\n",
    "print(\"jV_d =\", jV_d)\n",
    "\n",
    "# 爆炸性指数 K_d\n",
    "jFC_daf = 1-jV_daf/100\n",
    "jQ_vol = (jQ_net_daf - 7850*4.187*jFC_daf ) / (jV_daf/100)\n",
    "jV_vol = 1260 * 4.187 / jQ_vol\n",
    "jV_vol_que = (jV_vol * (  1 + ( 100-jV_d )/jV_d  )) / (100+jV_vol*((100-jV_d)/jV_d))\n",
    "jK_d = (jV_d/100) / jV_vol_que\n",
    "print(\"jFC_daf =\", jFC_daf)\n",
    "print(\"jQ_vol =\", jQ_vol)\n",
    "print(\"jV_vol =\", jV_vol)\n",
    "print(\"jV_vol_que =\", jV_vol_que)\n",
    "print(\"爆炸性指数 jK_d =\", jK_d)"
   ]
  },
  {
   "cell_type": "markdown",
   "id": "a715ab4d",
   "metadata": {},
   "source": [
    "# 煤耗量\n",
    "\n",
    "超临界 600MW容量级别 供电煤耗 <= 300 gce/(kW.h)"
   ]
  },
  {
   "cell_type": "code",
   "execution_count": null,
   "id": "b1a26909",
   "metadata": {},
   "outputs": [],
   "source": []
  }
 ],
 "metadata": {
  "kernelspec": {
   "display_name": "Python 3 (ipykernel)",
   "language": "python",
   "name": "python3"
  },
  "language_info": {
   "codemirror_mode": {
    "name": "ipython",
    "version": 3
   },
   "file_extension": ".py",
   "mimetype": "text/x-python",
   "name": "python",
   "nbconvert_exporter": "python",
   "pygments_lexer": "ipython3",
   "version": "3.10.6"
  }
 },
 "nbformat": 4,
 "nbformat_minor": 5
}
