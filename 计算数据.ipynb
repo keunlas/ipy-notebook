{
 "cells": [
  {
   "cell_type": "code",
   "execution_count": null,
   "id": "84c868bc",
   "metadata": {},
   "outputs": [],
   "source": [
    "import numpy as np\n",
    "# 煤质 单位：%\n",
    "C_ar = 58.92\n",
    "H_ar = 2.57\n",
    "O_ar = 2.35\n",
    "N_ar = 0.91\n",
    "S_ar = 2.88\n",
    "M_ar = 8.5\n",
    "A_ar = 23.96\n",
    "M_ad = 1.22\n",
    "V_daf = 12.23\n",
    "Q_net_ar = 22680.0\n",
    "HGI = 82.0\n",
    "# 灰成分 单位：%\n",
    "SiO2 = 44.61\n",
    "Fe2O3 = 16.51\n",
    "Al2O3 = 24.36\n",
    "CaO = 5.22\n",
    "MgO = 0.63\n",
    "TiO2 = 3.85\n",
    "SO3 = 2.36\n",
    "P2O5 = 0.005\n",
    "Na2O = 0.76\n",
    "K2O = 0.85\n",
    "Mn3O4 = 0.09\n",
    "# 灰熔点 单位：℃\n",
    "\n",
    "\n"
   ]
  }
 ],
 "metadata": {
  "kernelspec": {
   "display_name": "Python 3 (ipykernel)",
   "language": "python",
   "name": "python3"
  },
  "language_info": {
   "codemirror_mode": {
    "name": "ipython",
    "version": 3
   },
   "file_extension": ".py",
   "mimetype": "text/x-python",
   "name": "python",
   "nbconvert_exporter": "python",
   "pygments_lexer": "ipython3",
   "version": "3.10.6"
  }
 },
 "nbformat": 4,
 "nbformat_minor": 5
}
