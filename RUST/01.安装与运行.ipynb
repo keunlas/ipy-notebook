{
 "cells": [
  {
   "cell_type": "markdown",
   "id": "8abee020",
   "metadata": {},
   "source": [
    "# 安装\n",
    "\n",
    "* 首先安装rustup\n",
    "* 然后运行 ```rustup default stable``` 以此安装rust的stable版本\n",
    "* 更新 ```rustup update```\n",
    "* 卸载 ```rustup self uninstall```\n",
    "* 本地文档 ```rustup doc```\n",
    "\n",
    "# 使用\n",
    "\n",
    "* \n"
   ]
  },
  {
   "cell_type": "markdown",
   "id": "564fe8b4",
   "metadata": {},
   "source": []
  },
  {
   "cell_type": "markdown",
   "id": "a9b4c33a",
   "metadata": {},
   "source": []
  },
  {
   "cell_type": "markdown",
   "id": "e5be78ac",
   "metadata": {},
   "source": []
  },
  {
   "cell_type": "markdown",
   "id": "9e95aefb",
   "metadata": {},
   "source": []
  },
  {
   "cell_type": "markdown",
   "id": "0ebe4d37",
   "metadata": {},
   "source": []
  }
 ],
 "metadata": {
  "kernelspec": {
   "display_name": "Python 3 (ipykernel)",
   "language": "python",
   "name": "python3"
  },
  "language_info": {
   "codemirror_mode": {
    "name": "ipython",
    "version": 3
   },
   "file_extension": ".py",
   "mimetype": "text/x-python",
   "name": "python",
   "nbconvert_exporter": "python",
   "pygments_lexer": "ipython3",
   "version": "3.10.6"
  }
 },
 "nbformat": 4,
 "nbformat_minor": 5
}
