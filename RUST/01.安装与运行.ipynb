{
 "cells": [
  {
   "cell_type": "markdown",
   "id": "088cf2fd",
   "metadata": {},
   "source": [
    "# 安装\n",
    "\n",
    "* 首先安装rustup\n",
    "* 然后运行 ```rustup default stable``` 以此安装rust的stable版本\n",
    "* 更新 ```rustup update```\n",
    "* 卸载 ```rustup self uninstall```\n",
    "* 本地文档 ```rustup doc```\n",
    "\n",
    "# 使用\n",
    "\n",
    "* 使用```rustc xxx.rs``` 来生成可执行文件\n",
    "\n",
    "# Cargo\n",
    "\n",
    "\n",
    "  *  可以使用 cargo new 创建项目。\n",
    "  *  可以使用 cargo build 构建项目。\n",
    "  *   可以使用 cargo run 一步构建并运行项目。\n",
    "  *  可以使用 cargo check 在不生成二进制文件的情况下构建项目来检查错误。\n",
    "  *  有别于将构建结果放在与源码相同的目录，Cargo 会将其放到 target/debug 目录。\n",
    "  * 可以使用 cargo build --release 来优化编译项目\n",
    "\n"
   ]
  },
  {
   "cell_type": "markdown",
   "id": "855c2c51",
   "metadata": {},
   "source": []
  }
 ],
 "metadata": {
  "kernelspec": {
   "display_name": "Python 3 (ipykernel)",
   "language": "python",
   "name": "python3"
  },
  "language_info": {
   "codemirror_mode": {
    "name": "ipython",
    "version": 3
   },
   "file_extension": ".py",
   "mimetype": "text/x-python",
   "name": "python",
   "nbconvert_exporter": "python",
   "pygments_lexer": "ipython3",
   "version": "3.10.6"
  }
 },
 "nbformat": 4,
 "nbformat_minor": 5
}
