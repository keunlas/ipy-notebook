{
 "cells": [
  {
   "cell_type": "markdown",
   "id": "2039823f",
   "metadata": {},
   "source": [
    "# 安装"
   ]
  },
  {
   "cell_type": "markdown",
   "id": "1b8258aa",
   "metadata": {},
   "source": [
    "* 首先安装rustup\n",
    "* 然后运行 ```rustup default stable``` 以此安装rust的stable版本"
   ]
  },
  {
   "cell_type": "code",
   "execution_count": null,
   "id": "04de7ff9",
   "metadata": {},
   "outputs": [],
   "source": []
  },
  {
   "cell_type": "code",
   "execution_count": null,
   "id": "c8309d32",
   "metadata": {},
   "outputs": [],
   "source": []
  },
  {
   "cell_type": "code",
   "execution_count": null,
   "id": "7a66a0c4",
   "metadata": {},
   "outputs": [],
   "source": []
  }
 ],
 "metadata": {
  "kernelspec": {
   "display_name": "Python 3 (ipykernel)",
   "language": "python",
   "name": "python3"
  },
  "language_info": {
   "codemirror_mode": {
    "name": "ipython",
    "version": 3
   },
   "file_extension": ".py",
   "mimetype": "text/x-python",
   "name": "python",
   "nbconvert_exporter": "python",
   "pygments_lexer": "ipython3",
   "version": "3.10.6"
  }
 },
 "nbformat": 4,
 "nbformat_minor": 5
}
