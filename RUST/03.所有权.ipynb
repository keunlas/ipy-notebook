{
 "cells": [
  {
   "cell_type": "markdown",
   "id": "10037aed",
   "metadata": {},
   "source": [
    "## 所有权与String类型\n",
    "\n",
    "赋值 - 堆\n",
    "```\n",
    "    let s1 = String::from(\"hello\");\n",
    "    let s2 = s1;\n",
    "    // println!(\"{}, world!\", s1); // s1不再有效\n",
    "```\n",
    "\n",
    "克隆 - 堆\n",
    "```\n",
    "    let s1 = String::from(\"hello\");\n",
    "    let s2 = s1.clone();\n",
    "    println!(\"s1 = {}, s2 = {}\", s1, s2); // s1依旧有效\n",
    "```\n",
    "\n",
    "拷贝 - 栈 - 整型的数据存储在栈上\n",
    "```\n",
    "    let x = 5;\n",
    "    let y = x;\n",
    "    println!(\"x = {}, y = {}\", x, y); // x,y都有效\n",
    "```\n",
    "\n",
    "* 在栈上的数据被赋值，不会移交所有权，即 Copy trait\n",
    "* 在堆上的数据被赋值，会移交所有权，即 Drop trait\n",
    "* Drop trait 和 Copy trait 在后面学到\n",
    "\n",
    "\n",
    "## 所有权与函数\n",
    "\n",
    "```\n",
    "fn main() {\n",
    "    let s = String::from(\"hello\");  // s 进入main作用域\n",
    "    A(s);                           // s 的所有权移动到函数A里\n",
    "                                    // 无法继续使用s\n",
    "\n",
    "    let x = 5;                      // x 进入main作用域\n",
    "    B(x);                           // x 应该移动到函数B里，\n",
    "                                    // 但 i32 是 Copy 的，\n",
    "                                    // 所以可继续使用x\n",
    "                                    \n",
    "} // 函数结束时，释放所有函数依旧拥有所有权的量\n",
    "```\n",
    "\n",
    "注意,函数返回值也可以转移所有权。"
   ]
  },
  {
   "cell_type": "markdown",
   "id": "77635380",
   "metadata": {},
   "source": [
    "# 引用与借用\n",
    "\n",
    "我们将创建一个引用的行为称为 借用。\n",
    "\n",
    "```\n",
    "fn main{\n",
    "    let s1 = String::from(\"hello\");\n",
    "    let len = calculate_length(&s1);\n",
    "}\n",
    "\n",
    "    \n",
    "fn calculate_length(s: &String) -> usize { // s 是 String 的引用\n",
    "    s.len()\n",
    "} // 这里 s 离开了作用域，但函数并不拥有引用值的所有权，所以不会释放掉 s 。\n",
    "```"
   ]
  }
 ],
 "metadata": {
  "kernelspec": {
   "display_name": "Python 3 (ipykernel)",
   "language": "python",
   "name": "python3"
  },
  "language_info": {
   "codemirror_mode": {
    "name": "ipython",
    "version": 3
   },
   "file_extension": ".py",
   "mimetype": "text/x-python",
   "name": "python",
   "nbconvert_exporter": "python",
   "pygments_lexer": "ipython3",
   "version": "3.10.6"
  }
 },
 "nbformat": 4,
 "nbformat_minor": 5
}
