{
 "cells": [
  {
   "cell_type": "markdown",
   "id": "3589f4d4",
   "metadata": {},
   "source": [
    "## 所有权与String类型\n",
    "\n",
    "赋值 - 堆\n",
    "```\n",
    "    let s1 = String::from(\"hello\");\n",
    "    let s2 = s1;\n",
    "    // println!(\"{}, world!\", s1); // s1不再有效\n",
    "```\n",
    "\n",
    "克隆 - 堆\n",
    "```\n",
    "    let s1 = String::from(\"hello\");\n",
    "    let s2 = s1.clone();\n",
    "    println!(\"s1 = {}, s2 = {}\", s1, s2); // s1依旧有效\n",
    "```\n",
    "\n",
    "拷贝 - 栈 - 整型的数据存储在栈上\n",
    "```\n",
    "    let x = 5;\n",
    "    let y = x;\n",
    "    println!(\"x = {}, y = {}\", x, y); // x,y都有效\n",
    "```\n",
    "\n",
    "* 在栈上的数据被赋值，不会移交所有权\n",
    "* 在堆上的数据被赋值，会移交所有权\n",
    "\n",
    "\n",
    "\n"
   ]
  }
 ],
 "metadata": {
  "kernelspec": {
   "display_name": "Python 3 (ipykernel)",
   "language": "python",
   "name": "python3"
  },
  "language_info": {
   "codemirror_mode": {
    "name": "ipython",
    "version": 3
   },
   "file_extension": ".py",
   "mimetype": "text/x-python",
   "name": "python",
   "nbconvert_exporter": "python",
   "pygments_lexer": "ipython3",
   "version": "3.10.6"
  }
 },
 "nbformat": 4,
 "nbformat_minor": 5
}
