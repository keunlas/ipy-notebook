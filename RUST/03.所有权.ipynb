{
 "cells": [
  {
   "cell_type": "markdown",
   "id": "bf0f394e",
   "metadata": {},
   "source": [
    "## 所有权与String类型\n",
    "\n",
    "赋值 - 堆\n",
    "```\n",
    "    let s1 = String::from(\"hello\");\n",
    "    let s2 = s1;\n",
    "    // println!(\"{}, world!\", s1); // s1不再有效\n",
    "```\n",
    "\n",
    "克隆 - 堆\n",
    "```\n",
    "    let s1 = String::from(\"hello\");\n",
    "    let s2 = s1.clone();\n",
    "    println!(\"s1 = {}, s2 = {}\", s1, s2); // s1依旧有效\n",
    "```\n",
    "\n",
    "拷贝 - 栈 - 整型的数据存储在栈上\n",
    "```\n",
    "    let x = 5;\n",
    "    let y = x;\n",
    "    println!(\"x = {}, y = {}\", x, y); // x,y都有效\n",
    "```\n",
    "\n",
    "* 在栈上的数据被赋值，不会移交所有权，即\n",
    "* 在堆上的数据被赋值，会移交所有权，即\n",
    "* Drop trait 和 Copy trait\n",
    "\n",
    "\n",
    "## 所有权与函数\n",
    "\n",
    "```\n",
    "fn main() {\n",
    "    let s = String::from(\"hello\");  // s 进入main作用域\n",
    "    A(s);             // s 的所有权移动到函数A里 ...\n",
    "\n",
    "\n",
    "    let x = 5;                      // x 进入main作用域\n",
    "    B(x);                  // x 应该移动函数里，\n",
    "                                    // 但 i32 是 Copy 的，\n",
    "                                    // 所以在后面可继续使用 x\n",
    "\n",
    "} // 这里，x 先移出了作用域，然后是 s。但因为 s 的值已被移走，\n",
    "  // 没有特殊之处\n",
    "```"
   ]
  }
 ],
 "metadata": {
  "kernelspec": {
   "display_name": "Python 3 (ipykernel)",
   "language": "python",
   "name": "python3"
  },
  "language_info": {
   "codemirror_mode": {
    "name": "ipython",
    "version": 3
   },
   "file_extension": ".py",
   "mimetype": "text/x-python",
   "name": "python",
   "nbconvert_exporter": "python",
   "pygments_lexer": "ipython3",
   "version": "3.10.6"
  }
 },
 "nbformat": 4,
 "nbformat_minor": 5
}
