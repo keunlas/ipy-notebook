{
 "cells": [
  {
   "cell_type": "markdown",
   "id": "bbb7a52b",
   "metadata": {},
   "source": [
    "```\n",
    "    let s1 = String::from(\"hello\");\n",
    "    let s2 = s1;\n",
    "\n",
    "    // println!(\"{}, world!\", s1); // s1不再有效\n",
    "```"
   ]
  }
 ],
 "metadata": {
  "kernelspec": {
   "display_name": "Python 3 (ipykernel)",
   "language": "python",
   "name": "python3"
  },
  "language_info": {
   "codemirror_mode": {
    "name": "ipython",
    "version": 3
   },
   "file_extension": ".py",
   "mimetype": "text/x-python",
   "name": "python",
   "nbconvert_exporter": "python",
   "pygments_lexer": "ipython3",
   "version": "3.10.6"
  }
 },
 "nbformat": 4,
 "nbformat_minor": 5
}
