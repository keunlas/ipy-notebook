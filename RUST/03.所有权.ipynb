{
 "cells": [
  {
   "cell_type": "markdown",
   "id": "4838d5c9",
   "metadata": {},
   "source": [
    "赋值\n",
    "```\n",
    "    let s1 = String::from(\"hello\");\n",
    "    let s2 = s1;\n",
    "    // println!(\"{}, world!\", s1); // s1不再有效\n",
    "```\n",
    "\n",
    "克隆\n",
    "```\n",
    "    let s1 = String::from(\"hello\");\n",
    "    let s2 = s1.clone();\n",
    "    println!(\"s1 = {}, s2 = {}\", s1, s2); // s1依旧有效\n",
    "```\n",
    "\n",
    "```\n",
    "let x = 5;\n",
    "let y = x;\n",
    "\n",
    "println!(\"x = {}, y = {}\", x, y);\n",
    "```\n",
    "\n",
    "\n",
    "\n",
    "\n"
   ]
  }
 ],
 "metadata": {
  "kernelspec": {
   "display_name": "Python 3 (ipykernel)",
   "language": "python",
   "name": "python3"
  },
  "language_info": {
   "codemirror_mode": {
    "name": "ipython",
    "version": 3
   },
   "file_extension": ".py",
   "mimetype": "text/x-python",
   "name": "python",
   "nbconvert_exporter": "python",
   "pygments_lexer": "ipython3",
   "version": "3.10.6"
  }
 },
 "nbformat": 4,
 "nbformat_minor": 5
}
