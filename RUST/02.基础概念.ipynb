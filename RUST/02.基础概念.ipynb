{
 "cells": [
  {
   "cell_type": "markdown",
   "id": "98a2c442",
   "metadata": {},
   "source": [
    "# 变量与可变性\n",
    "\n",
    "* ```let x = 5;```其中x不可变，若强行改变，如```x=x+1```，则会报错。\n",
    "* ```let mut x = 5;```这时x可变，可以进行覆盖等操作，如```x=x+1```。\n",
    "* 定义常量用 ```const```，Rust 对常量的命名约定是在单词之间使用全大写加下划线。\n",
    "* 重复定义同一个变量会将上一次定义的变量隐藏，如下所示。\n",
    "```\n",
    "fn main() {\n",
    "    let x = 5;\n",
    "    let x = x + 1;\n",
    "    {\n",
    "        let x = x * 2;\n",
    "        println!(\"The value of x in the inner scope is: {x}\");\n",
    "    }\n",
    "    println!(\"The value of x is: {x}\");\n",
    "}\n",
    "# The value of x in the inner scope is: 12\n",
    "# The value of x is: 6\n",
    "```"
   ]
  },
  {
   "cell_type": "code",
   "execution_count": null,
   "id": "6603ee38",
   "metadata": {},
   "outputs": [],
   "source": []
  }
 ],
 "metadata": {
  "kernelspec": {
   "display_name": "Python 3 (ipykernel)",
   "language": "python",
   "name": "python3"
  },
  "language_info": {
   "codemirror_mode": {
    "name": "ipython",
    "version": 3
   },
   "file_extension": ".py",
   "mimetype": "text/x-python",
   "name": "python",
   "nbconvert_exporter": "python",
   "pygments_lexer": "ipython3",
   "version": "3.10.6"
  }
 },
 "nbformat": 4,
 "nbformat_minor": 5
}
