{
 "cells": [
  {
   "cell_type": "markdown",
   "id": "1e570133",
   "metadata": {},
   "source": [
    "# 变量与可变性\n",
    "\n",
    "* ```let x = 5;```其中x不可变，若强行改变，则会报错。\n",
    "* \n",
    "\n"
   ]
  }
 ],
 "metadata": {
  "kernelspec": {
   "display_name": "Python 3 (ipykernel)",
   "language": "python",
   "name": "python3"
  },
  "language_info": {
   "codemirror_mode": {
    "name": "ipython",
    "version": 3
   },
   "file_extension": ".py",
   "mimetype": "text/x-python",
   "name": "python",
   "nbconvert_exporter": "python",
   "pygments_lexer": "ipython3",
   "version": "3.10.6"
  }
 },
 "nbformat": 4,
 "nbformat_minor": 5
}
