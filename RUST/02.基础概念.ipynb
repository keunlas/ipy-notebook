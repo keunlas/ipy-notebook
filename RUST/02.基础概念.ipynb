{
 "cells": [
  {
   "cell_type": "markdown",
   "id": "e87b28c5",
   "metadata": {},
   "source": [
    "# 变量与可变性\n",
    "\n",
    "* ```let x = 5;```其中x不可变，若强行改变，如```x=x+1```，则会报错。\n",
    "* ```let mut x = 5;```这时x可变，可以进行覆盖等操作，如```x=x+1```。\n",
    "* 定义常量用 ```const```，Rust 对常量的命名约定是在单词之间使用全大写加下划线。\n",
    "* 重复定义同一个变量会将上一次定义的变量隐藏，如下所示。\n",
    "```\n",
    "fn main() {\n",
    "    let x = 5;\n",
    "    let x = x + 1;\n",
    "    {\n",
    "        let x = x * 2;\n",
    "        println!(\"The value of x in the inner scope is: {x}\");\n",
    "    }\n",
    "    println!(\"The value of x is: {x}\");\n",
    "}\n",
    "# The value of x in the inner scope is: 12\n",
    "# The value of x is: 6\n",
    "```"
   ]
  },
  {
   "cell_type": "markdown",
   "id": "a5b8a867",
   "metadata": {},
   "source": [
    "# 数据类型\n",
    "\n",
    "* 标量\n",
    "    * 整形\n",
    "    * 浮点型\n",
    "    * 布尔类型\n",
    "    * 字符型\n",
    "\n",
    "\n",
    "|长度\t|有符号\t|无符号|\n",
    "|---|---|---|\n",
    "|8-bit|\ti8|\tu8|\n",
    "|16-bit|\ti16\t|u16|\n",
    "|32-bit\t|i32\t|u32|\n",
    "|64-bit\t|i64\t|u64|\n",
    "|128-bit|i128|\tu128|\n",
    "|arch\t|isize\t|usize|\n",
    "\n",
    "|数字字面值|例子|\n",
    "|---|---|\n",
    "|Decimal (十进制)\t|98_222|\n",
    "|Hex (十六进制)\t|0xff|\n",
    "|Octal (八进制)\t|0o77|\n",
    "|Binary (二进制)\t|0b1111_0000|\n",
    "|Byte (单字节字符)(仅限于u8)|\tb'A'|"
   ]
  },
  {
   "cell_type": "code",
   "execution_count": null,
   "id": "63247b2b",
   "metadata": {},
   "outputs": [],
   "source": []
  }
 ],
 "metadata": {
  "kernelspec": {
   "display_name": "Python 3 (ipykernel)",
   "language": "python",
   "name": "python3"
  },
  "language_info": {
   "codemirror_mode": {
    "name": "ipython",
    "version": 3
   },
   "file_extension": ".py",
   "mimetype": "text/x-python",
   "name": "python",
   "nbconvert_exporter": "python",
   "pygments_lexer": "ipython3",
   "version": "3.10.6"
  }
 },
 "nbformat": 4,
 "nbformat_minor": 5
}
