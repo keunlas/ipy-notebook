{
 "cells": [
  {
   "cell_type": "code",
   "execution_count": 16,
   "metadata": {},
   "outputs": [],
   "source": [
    "import pandas as pd\n",
    "df = pd.read_csv(\"data.csv\", index_col=0, sep=\",\")\n",
    "df.to_csv(\"data_r.csv\")"
   ]
  },
  {
   "cell_type": "code",
   "execution_count": 24,
   "metadata": {},
   "outputs": [
    {
     "name": "stdout",
     "output_type": "stream",
     "text": [
      "list: [11, 22, 33]\n",
      "series: 0    11\n",
      "1    22\n",
      "2    33\n",
      "dtype: int64\n",
      "series: a    11\n",
      "b    22\n",
      "c    33\n",
      "dtype: int64\n",
      "series: a    11\n",
      "b    22\n",
      "c    33\n",
      "dtype: int64\n",
      "series: a    0.603820\n",
      "b    0.048195\n",
      "c    0.206135\n",
      "dtype: float64\n"
     ]
    }
   ],
   "source": [
    "import pandas as pd\n",
    "import numpy as np\n",
    "\n",
    "l = [11, 22, 33]\n",
    "s = pd.Series(l)\n",
    "print(\"list:\", l)\n",
    "print(\"series:\", s)\n",
    "\n",
    "s = pd.Series(l, index=[\"a\", \"b\", \"c\"])\n",
    "print(\"series:\", s)\n",
    "\n",
    "s = pd.Series({\"a\": 11, \"b\": 22, \"c\": 33})\n",
    "print(\"series:\", s)\n",
    "\n",
    "\n",
    "s = pd.Series(np.random.rand(3), index=[\"a\", \"b\", \"c\"])\n",
    "print(\"series:\", s)\n",
    "\n",
    "print(\"array:\", s.to_numpy())\n",
    "print(\"list:\", s.values.tolist())"
   ]
  }
 ],
 "metadata": {
  "kernelspec": {
   "display_name": ".venv",
   "language": "python",
   "name": "python3"
  },
  "language_info": {
   "codemirror_mode": {
    "name": "ipython",
    "version": 3
   },
   "file_extension": ".py",
   "mimetype": "text/x-python",
   "name": "python",
   "nbconvert_exporter": "python",
   "pygments_lexer": "ipython3",
   "version": "3.10.9"
  },
  "orig_nbformat": 4
 },
 "nbformat": 4,
 "nbformat_minor": 2
}
