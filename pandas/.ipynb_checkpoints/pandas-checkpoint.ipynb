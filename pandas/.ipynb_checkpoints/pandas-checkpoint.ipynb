{
 "cells": [
  {
   "cell_type": "markdown",
   "metadata": {},
   "source": [
    "# csv的读取和保存"
   ]
  },
  {
   "cell_type": "code",
   "execution_count": 1,
   "metadata": {},
   "outputs": [],
   "source": [
    "import pandas as pd\n",
    "df = pd.read_csv(\"data.csv\", index_col=0, sep=\",\")\n",
    "df.to_csv(\"data_r.csv\")"
   ]
  },
  {
   "cell_type": "markdown",
   "metadata": {},
   "source": [
    "# 快速体验pandas"
   ]
  },
  {
   "cell_type": "code",
   "execution_count": 5,
   "metadata": {},
   "outputs": [
    {
     "name": "stdout",
     "output_type": "stream",
     "text": [
      "list:\n",
      " [11, 22, 33]\n",
      "series:\n",
      " 0    11\n",
      "1    22\n",
      "2    33\n",
      "dtype: int64\n",
      "series:\n",
      " a    11\n",
      "b    22\n",
      "c    33\n",
      "dtype: int64\n",
      "series:\n",
      " a    11\n",
      "b    22\n",
      "c    33\n",
      "dtype: int64\n",
      "===================================\n",
      "series:\n",
      " a    0.680863\n",
      "b    0.955040\n",
      "c    0.940546\n",
      "dtype: float64\n",
      "array:\n",
      " [0.68086297 0.95503996 0.94054614]\n",
      "list:\n",
      " [0.6808629677599185, 0.9550399557511448, 0.9405461437106639]\n"
     ]
    }
   ],
   "source": [
    "import pandas as pd\n",
    "import numpy as np\n",
    "\n",
    "l = [11, 22, 33]\n",
    "s = pd.Series(l)\n",
    "print(\"list:\\n\", l)\n",
    "print(\"series:\\n\", s)\n",
    "\n",
    "s = pd.Series(l, index=[\"a\", \"b\", \"c\"])\n",
    "print(\"series:\\n\", s)\n",
    "\n",
    "s = pd.Series({\"a\": 11, \"b\": 22, \"c\": 33})\n",
    "print(\"series:\\n\", s)\n",
    "\n",
    "print(\"===================================\")\n",
    "\n",
    "s = pd.Series(np.random.rand(3), index=[\"a\", \"b\", \"c\"])\n",
    "print(\"series:\\n\", s)\n",
    "print(\"array:\\n\", s.to_numpy())\n",
    "print(\"list:\\n\", s.values.tolist())"
   ]
  },
  {
   "cell_type": "code",
   "execution_count": null,
   "metadata": {},
   "outputs": [],
   "source": []
  }
 ],
 "metadata": {
  "kernelspec": {
   "display_name": "Python 3 (ipykernel)",
   "language": "python",
   "name": "python3"
  },
  "language_info": {
   "codemirror_mode": {
    "name": "ipython",
    "version": 3
   },
   "file_extension": ".py",
   "mimetype": "text/x-python",
   "name": "python",
   "nbconvert_exporter": "python",
   "pygments_lexer": "ipython3",
   "version": "3.10.6"
  }
 },
 "nbformat": 4,
 "nbformat_minor": 2
}
