{
 "cells": [
  {
   "cell_type": "markdown",
   "metadata": {
    "tags": []
   },
   "source": [
    "# Numpy的简单使用"
   ]
  },
  {
   "cell_type": "markdown",
   "metadata": {},
   "source": [
    "## 安装\n",
    "\n",
    "```shell\n",
    "pip install numpy\n",
    "# 注意使用的是pip还是pip3, 以及必要的管理员权限\n",
    "# 推荐使用virtualenv来构建一个虚拟环境\n",
    "```"
   ]
  },
  {
   "cell_type": "markdown",
   "metadata": {},
   "source": [
    "## Numpy中矩阵的一些属性"
   ]
  },
  {
   "cell_type": "code",
   "execution_count": 1,
   "metadata": {},
   "outputs": [],
   "source": [
    "import numpy as np\n",
    "\n",
    "A = np.array([[1, 2, 3], [4, 5, 6]])\n",
    "print(\"所创建的A:\\n\", A)\n",
    "print(\"A的维度: \", A.ndim)  # 2\n",
    "print(\"A的行列: \", A.shape)  # (2,3)\n",
    "print(\"A的大小: \", A.size)  # 6\n"
   ]
  },
  {
   "cell_type": "markdown",
   "metadata": {},
   "source": [
    "## Numpy中矩阵的创建\n",
    "\n",
    "### 普通创建与指定数据类型"
   ]
  },
  {
   "cell_type": "code",
   "execution_count": 2,
   "metadata": {
    "slideshow": {
     "slide_type": "slide"
    }
   },
   "outputs": [],
   "source": [
    "# 矩阵的普通创建\n",
    "a = np.array([[2, 23, 4], [2, 32, 4]])\n",
    "# print(a)\n",
    "# [[ 2 23  4]\n",
    "#  [ 2 32  4]]\n",
    "\n",
    "# 指定矩阵中元素的数据类型\n",
    "a = np.array([2, 23, 4], dtype=np.int64)\n",
    "print(a.dtype)  # int64\n",
    "a = np.array([2, 23, 4], dtype=np.float64)\n",
    "print(a.dtype)  # float64\n",
    "a = np.array([2, 23, 4], dtype=np.double)\n",
    "print(a.dtype)  # float64\n"
   ]
  },
  {
   "cell_type": "markdown",
   "metadata": {},
   "source": [
    "### 零矩阵、全一矩阵和空矩阵的创建"
   ]
  },
  {
   "cell_type": "code",
   "execution_count": 3,
   "metadata": {},
   "outputs": [],
   "source": [
    "# 零矩阵 参数 (x,y) 为 x行y列\n",
    "a1 = np.zeros((3, 4))\n",
    "print(a1)\n",
    "\n",
    "# 全一矩阵 参数 (x,y) 为 x行y列\n",
    "a2 = np.ones((3, 4))\n",
    "print(a2)\n",
    "\n",
    "# 空矩阵 参数 (x,y) 为 x行y列\n",
    "a3 = np.empty((3, 3))\n",
    "print(a3)\n"
   ]
  },
  {
   "cell_type": "markdown",
   "metadata": {},
   "source": [
    "### 生成数列和随机数矩阵"
   ]
  },
  {
   "cell_type": "code",
   "execution_count": 4,
   "metadata": {},
   "outputs": [],
   "source": [
    "# 随机生成0到1之间的数，2行4列\n",
    "a = np.random.random((2, 4))\n",
    "print(a)\n",
    "\n",
    "# 生成范围为[10,20)的数列，步长为2\n",
    "a = np.arange(10, 20, 2)\n",
    "print(a)  # [10 12 14 16 18]\n"
   ]
  },
  {
   "cell_type": "markdown",
   "metadata": {},
   "source": [
    "### 等差数列与等比数列"
   ]
  },
  {
   "cell_type": "code",
   "execution_count": 5,
   "metadata": {},
   "outputs": [],
   "source": [
    "# 等差数列\n",
    "# 生成范围为[1,100]，生成10个数,且等差\n",
    "a = np.linspace(1, 100, 10)\n",
    "print(a)\n",
    "\n",
    "# 等比数列\n",
    "# 生成范围为[0,9]，生成10个数,且等比\n",
    "a = np.logspace(0, 9, 10, base=2)\n",
    "print(a)\n"
   ]
  },
  {
   "cell_type": "markdown",
   "metadata": {},
   "source": [
    "上述等比数列其实就是求 $ \\log_{base} X $ , 其中 $X$ 为 $\\frac{生成范围}{生成的个数}$ 后的每一个对应的数. 因此这个参数base就是公比.\n",
    "\n"
   ]
  },
  {
   "cell_type": "markdown",
   "metadata": {},
   "source": [
    "### 将数列reshape成矩阵"
   ]
  },
  {
   "cell_type": "code",
   "execution_count": 6,
   "metadata": {},
   "outputs": [],
   "source": [
    "# 生成范围为[0,12)的数列，步长为1，并塑造为3行4列的矩阵\n",
    "a = np.arange(12).reshape((3, 4))\n",
    "print(a)\n"
   ]
  },
  {
   "cell_type": "markdown",
   "metadata": {},
   "source": [
    "## 矩阵的基础运算\n",
    "\n",
    "### 数列的加,减,数乘,乘方,函数运算"
   ]
  },
  {
   "cell_type": "code",
   "execution_count": 7,
   "metadata": {},
   "outputs": [],
   "source": [
    "a = np.arange(10, 50, 10)\n",
    "b = np.arange(4)\n",
    "print(\"a:\\n\", a, \"\\nb:\\n\", b)  # [10 20 30 40] [0 1 2 3]\n",
    "\n",
    "c = a + b\n",
    "print(\"a + b :\\n\", c)  # [10 21 32 43]\n",
    "\n",
    "c = a - b\n",
    "print(\"a - b :\\n\", c)  # [10 19 28 37]\n",
    "\n",
    "print(\"a**2 :\\n\", a**2)  # [ 100  400  900 1600]\n",
    "\n",
    "c = 10 * a\n",
    "print(\"10*a :\\n\", c)  # [100 200 300 400]\n",
    "print(\"10*a < 111 :\\n\", c < 111)  # [ True False False False]\n",
    "print(\"10*a == 200 :\\n\", c == 200)  # [ False True False False]\n",
    "\n",
    "c = np.sin(a)\n",
    "print(\"np.sin(a) :\\n\", c)  # [-0.54402111  0.91294525 -0.98803162  0.74511316]\n"
   ]
  },
  {
   "cell_type": "markdown",
   "metadata": {},
   "source": [
    "### 矩阵的数乘,乘法和转置"
   ]
  },
  {
   "cell_type": "code",
   "execution_count": 8,
   "metadata": {},
   "outputs": [],
   "source": [
    "a = np.array([[4, 2], [1, 3]])\n",
    "b = np.arange(4).reshape((2, 2))\n",
    "print(\"a:\\n\", a, \"\\nb:\\n\", b)\n",
    "# [[1 2]\n",
    "#  [2 3]]\n",
    "#  [[0 1]\n",
    "#  [2 3]]\n",
    "\n",
    "print(\"a*b :\\n\", a * b)\n",
    "# [[0 2]\n",
    "#  [4 9]]\n",
    "\n",
    "print(\"a@b :\\n\", a @ b)\n",
    "# print(np.dot(a, b))\n",
    "# print(a.dot(b))\n",
    "# [[ 4  7]\n",
    "#  [ 6 11]]\n",
    "\n",
    "# 转置矩阵\n",
    "print(\"np.transpose(a) :\\n\", np.transpose(a))\n",
    "print(\"a.T :\\n\", a.T)\n"
   ]
  },
  {
   "cell_type": "markdown",
   "metadata": {},
   "source": [
    "### 其他运算"
   ]
  },
  {
   "cell_type": "code",
   "execution_count": 9,
   "metadata": {},
   "outputs": [],
   "source": [
    "a = np.arange(4).reshape((2, 2))\n",
    "print(a)\n",
    "print(\"np.sum(a):\", np.sum(a))\n",
    "print(\"np.max(a):\", np.max(a))\n",
    "print(\"np.min(a):\", np.min(a))\n",
    "# axis=0,1 为 行，列\n",
    "print('np.max(a, axis=0):',np.max(a, axis=0))\n",
    "print('np.sum(a, axis=1):',np.sum(a, axis=1))\n",
    "print('np.min(a, axis=1):',np.min(a, axis=1))\n"
   ]
  },
  {
   "cell_type": "code",
   "execution_count": 10,
   "metadata": {},
   "outputs": [],
   "source": [
    "a = np.array([1, 8, 15, 6, 55, 99, 125, 10, 23, 15, 89, 52]).reshape((3, 4))\n",
    "print(\"a:\\n\",a)\n",
    "\n",
    "# 输出最大最小值的索引\n",
    "print(\"输出最大最小值的索引:\")\n",
    "print(np.argmin(a))  # 0\n",
    "print(np.argmax(a))  # 6\n",
    "\n",
    "# 平均值\n",
    "print(\"平均值:\")\n",
    "print(np.average(a))  # 41.5\n",
    "print(a.mean())  # 41.5\n",
    "# 中位数\n",
    "print(\"中位数:\")\n",
    "print(np.median(a))  # 19\n",
    "\n",
    "# 前N项和数列; 累加数列\n",
    "print(\"前N项和数列; 累加数列:\")\n",
    "print(np.cumsum(a))  # [  1   9  24  30  85 184 309 319 342 357 446 498]\n",
    "\n",
    "# 累差数列\n",
    "print(\"累差数列:\")\n",
    "print(np.diff(a))\n",
    "# [[   7    7   -9]\n",
    "#  [  44   26 -115]\n",
    "#  [  -8   74  -37]]\n",
    "\n",
    "# 找出非零元素\n",
    "print(\"找出非零元素:\")\n",
    "print(np.nonzero(a))\n",
    "# (array([0, 0, 0, 0, 1, 1, 1, 1, 2, 2, 2, 2]), array([0, 1, 2, 3, 0, 1, 2, 3, 0, 1, 2, 3]))\n",
    "# 获得非零元素的行索引矩阵和列索引矩阵\n",
    "\n",
    "# 排序\n",
    "print(\"排序:\")\n",
    "print(np.sort(a))  # 逐行排序\n",
    "\n",
    "\n",
    "# clip 限制矩阵的范围 使不超出min max\n",
    "print(\"clip 限制矩阵的范围 使不超出min max :\")\n",
    "min = 5\n",
    "max = 50\n",
    "print(np.clip(a, min, max))\n",
    "# [[ 5  8 15  6]\n",
    "#  [50 50 50 10]\n",
    "#  [23 15 50 50]]"
   ]
  },
  {
   "cell_type": "markdown",
   "metadata": {},
   "source": [
    "## 索引与切片与迭代与扁平化"
   ]
  },
  {
   "cell_type": "code",
   "execution_count": 11,
   "metadata": {},
   "outputs": [],
   "source": [
    "a = np.array([1, 8, 15, 6, 55, 99, 125, 10, 23, 15, 89, 52]).reshape((3, 4))\n",
    "print(a)\n",
    "# [[  1   8  15   6]\n",
    "#  [ 55  99 125  10]\n",
    "#  [ 23  15  89  52]]\n",
    "\n",
    "print(\"切片:\")\n",
    "print(a[2])  # [23 15 89 52]\n",
    "print(a[:, 1])  # [ 8 99 15]\n",
    "print(a[2][1])  # 15\n",
    "print(a[2, 1])  # 15\n",
    "print(a[2, 1:3])  # [15 89]\n",
    "\n",
    "\n",
    "# 迭代 iteration\n",
    "print(\"迭代行:\")\n",
    "for row in a:  # 迭代行\n",
    "    print(row)\n",
    "# [15 89]\n",
    "# [ 1  8 15  6]\n",
    "# [ 55  99 125  10]\n",
    "# [23 15 89 52]\n",
    "\n",
    "print(\"通过迭代转置矩阵迭代列:\")\n",
    "for column in a.T:  # 通过迭代转置矩阵迭代列\n",
    "    print(column)\n",
    "# [ 1 55 23]\n",
    "# [ 8 99 15]\n",
    "# [ 15 125  89]\n",
    "# [ 6 10 52]\n",
    "\n",
    "print(\"扁平化为一行,并遍历:\")\n",
    "# 扁平化为一行,并遍历\n",
    "for item in a.flat:\n",
    "    print(item)\n"
   ]
  },
  {
   "cell_type": "markdown",
   "metadata": {},
   "source": [
    "##  合并矩阵"
   ]
  },
  {
   "cell_type": "code",
   "execution_count": 12,
   "metadata": {},
   "outputs": [],
   "source": [
    "a = np.array([1, 1, 1])\n",
    "b = np.array([2, 2, 2])\n",
    "print(\"a:\\n\", a, \"\\nb:\\n\", b)\n",
    "\n",
    "# 上下合并\n",
    "print(\"上下合并:\")\n",
    "c = np.vstack((a, b))\n",
    "print(c)\n",
    "# print(a.shape, c.shape)  # (3,) (2, 3)\n",
    "# 左右合并\n",
    "print(\"左右合并:\")\n",
    "c = np.hstack((a, b))\n",
    "print(c)\n",
    "# print(a.shape, c.shape)  # (3,) (6,)\n",
    "\n",
    "# # 将序列变为列矩阵 增维\n",
    "# a = a[:, np.newaxis]\n",
    "# b = b[:, np.newaxis]\n",
    "# c = np.hstack((a, b))\n",
    "# print(a)\n",
    "# # [[1]\n",
    "# #  [1]\n",
    "# #  [1]]\n",
    "# print(a.shape, c.shape)  # (3,1) (3,2)\n",
    "\n",
    "# # 合并 axis 0 1 为 纵向 横向\n",
    "# c = np.concatenate((a, b, b, a), axis=0)\n",
    "# print(c)\n",
    "# c = np.concatenate((a, b, b, a), axis=1)\n",
    "# print(c)"
   ]
  },
  {
   "cell_type": "markdown",
   "metadata": {},
   "source": [
    "## 分割矩阵"
   ]
  },
  {
   "cell_type": "code",
   "execution_count": 13,
   "metadata": {},
   "outputs": [],
   "source": [
    "a = np.arange(12).reshape((3,4))\n",
    "print(\"a:\\n\", a)\n",
    "# [[ 0  1  2  3]\n",
    "#  [ 4  5  6  7]\n",
    "#  [ 8  9 10 11]]\n",
    "\n",
    "# np.split(array, section, axis)\n",
    "print(\"在0轴上分割矩阵(0轴向下,1轴向右),也称为垂直分割:\")\n",
    "# print(np.split(a,3,axis=0))\n",
    "print(np.vsplit(a,3))\n",
    "# [array([[0, 1, 2,  3]]), \n",
    "#  array([[4, 5, 6,  7]]), \n",
    "#  array([[8, 9, 10, 11]])]\n",
    "\n",
    "print(\"在1轴上分割矩阵(0轴向下,1轴向右),也称为水平分割:\")\n",
    "# print(np.split(a,2,axis=1))\n",
    "print(np.hsplit(a,2))\n",
    "# [array([[0, 1],\n",
    "#        [4, 5],\n",
    "#        [8, 9]]), \n",
    "#  array([[ 2,  3],\n",
    "#        [ 6,  7],\n",
    "#        [10, 11]])]\n",
    "\n",
    "# 不等份分割\n",
    "print(\"分割时无法等分的情况:\")\n",
    "print(np.array_split(a,3,axis=1))\n",
    "# [array([[0, 1],\n",
    "#        [4, 5],\n",
    "#        [8, 9]]), \n",
    "#  array([[ 2],\n",
    "#        [ 6],\n",
    "#        [10]]),\n",
    "#  array([[ 3],\n",
    "#        [ 7],\n",
    "#        [11]])]\n"
   ]
  },
  {
   "cell_type": "markdown",
   "metadata": {},
   "source": [
    "## 深拷贝与浅拷贝"
   ]
  },
  {
   "cell_type": "markdown",
   "metadata": {},
   "source": [
    "### 浅拷贝"
   ]
  },
  {
   "cell_type": "code",
   "execution_count": 14,
   "metadata": {},
   "outputs": [],
   "source": [
    "a = np.arange(4)\n",
    "b = a\n",
    "c = b\n",
    "print(\"浅拷贝中的a,b,c是同一个矩阵,对其中一个更改,会影响其他\")\n",
    "print(\"b is a ? :\", b is a)\n",
    "print(\"c is a ? :\", c is a)\n"
   ]
  },
  {
   "cell_type": "markdown",
   "metadata": {},
   "source": [
    "### 深拷贝"
   ]
  },
  {
   "cell_type": "code",
   "execution_count": 15,
   "metadata": {},
   "outputs": [],
   "source": [
    "a = np.arange(4)\n",
    "b = a.copy()\n",
    "print(\"a: {}\".format(a))\n",
    "print(\"b: {}\".format(b))\n",
    "\n",
    "b[1] = 0\n",
    "print(\"修改b[1] = 0\")\n",
    "print(\"a: {}\".format(a))\n",
    "print(\"b: {}\".format(b))"
   ]
  }
 ],
 "metadata": {
  "kernelspec": {
   "display_name": "Python 3 (ipykernel)",
   "language": "python",
   "name": "python3"
  },
  "language_info": {
   "codemirror_mode": {
    "name": "ipython",
    "version": 3
   },
   "file_extension": ".py",
   "mimetype": "text/x-python",
   "name": "python",
   "nbconvert_exporter": "python",
   "pygments_lexer": "ipython3",
   "version": "3.10.6"
  }
 },
 "nbformat": 4,
 "nbformat_minor": 2
}
